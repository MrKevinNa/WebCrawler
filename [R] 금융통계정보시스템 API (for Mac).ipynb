{
 "cells": [
  {
   "cell_type": "markdown",
   "metadata": {
    "slideshow": {
     "slide_type": "slide"
    }
   },
   "source": [
    "# 금융감독원 금융통계정보시스템 Open API 이용방법\n",
    "* 금융업종별 금융회사들의 재무상태표와 손익계산서 등 요약재무정보를 수집할 수 있습니다.  \n",
    "* 의견이나 문의는 아래 이메일로 보내주시기 바랍니다. \n",
    "  - <kevin.na74@gmail.com>"
   ]
  },
  {
   "cell_type": "markdown",
   "metadata": {
    "slideshow": {
     "slide_type": "slide"
    }
   },
   "source": [
    "## API 인증키 신청하기\n",
    "* 금융감독원 금융통계정보시스템(http://fisis.fss.or.kr) 접속\n",
    "* 상단 가로 메뉴 중 \"OPEN API\" 클릭\n",
    "* 왼쪽 세로 메뉴 중 \"인증키신청\" 클릭 후 신청양식을 기입\n",
    "  - OPEN API 이용약관 \"동의함\" 선택\n",
    "  - 개인정보 수집약관 \"동의함\" 선택\n",
    "  - 이용형태 \"비영리\" 선택\n",
    "  - 신청정보란에 이메일과 사용용도를 기입 후 \"인증키신청\" 클릭  \n",
    "* 위 과정을 거치면 자신의 이메일로 API 인증키를 받을 수 있습니다. "
   ]
  },
  {
   "cell_type": "markdown",
   "metadata": {
    "slideshow": {
     "slide_type": "slide"
    }
   },
   "source": [
    "## API 구조\n",
    "* 금감원 금융통계정보시스템은 상당히 복잡한 구조를 가지고 있습니다. \n",
    "* \"OPEN API > API 상세\"로 이동하면 4개의 하위 메뉴로 구성되어 있습니다. \n",
    "  - 통계정보 API : 우리가 최종적으로 얻고자 하는 금융통계를 수집할 수 있습니다.  \n",
    "    * 요청변수로 금융회사코드, 통계코드, 계정항목코드 등을 입력해야 합니다. \n",
    "    * 이 외에 시기구분, 검색시작년월, 검색종료년월 등을 추가합니다. \n",
    "  - 금융회사 API : 금융권역별 금융회사코드, 금융회사명을 얻습니다. \n",
    "  - 통계목록 API : 금융권역별 통계코드, 통계명을 얻습니다. \n",
    "  - 계정항목 API : 통계코드별 계정항목코드, 계정항목명을 얻습니다.  \n",
    "* 정리해보면, \n",
    "  - 통계정보 API로 원하는 금융통계를 수집하기 위해서 금융회사코드,  \n",
    "    통계코드, 계정항목코드를 미리 받아서 정리해야 합니다. \n",
    "  - 왜 이렇게 만들어 놨을까요?? ^^"
   ]
  },
  {
   "cell_type": "code",
   "execution_count": 1,
   "metadata": {
    "slideshow": {
     "slide_type": "slide"
    }
   },
   "outputs": [
    {
     "name": "stderr",
     "output_type": "stream",
     "text": [
      "Loading required package: xml2\n",
      "\n",
      "Attaching package: ‘readr’\n",
      "\n",
      "The following object is masked from ‘package:rvest’:\n",
      "\n",
      "    guess_encoding\n",
      "\n"
     ]
    }
   ],
   "source": [
    "# 필요한 라이브러리 불러오기\n",
    "library(httr)\n",
    "library(rvest)\n",
    "library(readr)\n",
    "library(stringr)\n",
    "\n",
    "# 공통항목 설정\n",
    "main <- \"http://fisis.fss.or.kr/openapi/\"\n",
    "auth <- \"메일로 받은 인증키를 여기에 추가하세요\"\n",
    "lang <- \"kr\"\n",
    "\n",
    "# 금융권역 분류 (금융회사 API 페이지에서 확인!)\n",
    "# A:국내은행, C:신용카드사, H:생명보험, I:손해보험, K:리스사, \n",
    "# T:할부금융사, N:신기술금융사, E:상호저축은행, L:금융지주회사 등\n",
    "sectorCd <- c(\"A\",\"C\",\"H\",\"I\",\"K\",\"T\",\"N\",\"E\",\"L\")\n",
    "\n",
    "# 금융권역별 통계 분류 (통계목록 API 페이지에서 확인)\n",
    "statTbCd <- c(\"A\",\"B\",\"C\",\"D\",\"P\")"
   ]
  },
  {
   "cell_type": "code",
   "execution_count": 2,
   "metadata": {
    "collapsed": true,
    "slideshow": {
     "slide_type": "skip"
    }
   },
   "outputs": [],
   "source": [
    "auth <- \"088e6e0e9dcede7129d47d354371ffd8\""
   ]
  },
  {
   "cell_type": "code",
   "execution_count": 3,
   "metadata": {
    "slideshow": {
     "slide_type": "slide"
    }
   },
   "outputs": [
    {
     "data": {
      "text/html": [
       "200"
      ],
      "text/latex": [
       "200"
      ],
      "text/markdown": [
       "200"
      ],
      "text/plain": [
       "[1] 200"
      ]
     },
     "metadata": {},
     "output_type": "display_data"
    }
   ],
   "source": [
    "# 국내은행에 대해서 금융회사코드와 금융회사명을 수집합니다. \n",
    "sub1 <- \"companySearch.xml\"\n",
    "sector <- \"A\"\n",
    "\n",
    "URL <- paste(main, \n",
    "             sub1, \n",
    "             \"?lang=\", lang, \n",
    "             \"&auth=\", auth, \n",
    "             \"&partDiv=\", sector, \n",
    "             sep=\"\")\n",
    "\n",
    "# 조립한 url로 요청합니다. \n",
    "resp <- GET(URL)\n",
    "resp$status_code"
   ]
  },
  {
   "cell_type": "code",
   "execution_count": 4,
   "metadata": {
    "slideshow": {
     "slide_type": "slide"
    }
   },
   "outputs": [
    {
     "name": "stdout",
     "output_type": "stream",
     "text": [
      "<?xml version=\"1.0\" encoding=\"euc-kr\"?> \n",
      "<result>  \n",
      "<err_cd>000</err_cd>  \n",
      "<err_msg>정상</err_msg>  \n",
      "<total_count>31</total_count>  \n",
      "<list>  \n",
      "<row>  \n",
      "<finance_cd>0010927</finance_cd> \n",
      "<finance_nm>국민은행</finance_nm> \n",
      "<finance_path>국내은행/일반은행/시중은행/국민은행</finance_path> \n",
      "</row>  \n",
      "<row>  \n",
      "<finance_cd>0010014</finance_cd> \n",
      "<finance_nm>국민은행(구)[폐]</finance_nm> \n",
      "<finance_path>국내은행/일반은행/시중은행/국민은행(구)[폐]</finance_path> \n",
      "</row>  \n",
      "<row>  \n",
      "<finance_cd>0010004</finance_cd> \n",
      "<finance_nm>서울은행[폐]</finance_nm> \n",
      "<finance_path>국내은행/일반은행/시중은행/서울은행[폐]</finance_path> \n",
      "</row>  \n",
      "<row>  \n",
      "<finance_cd>0011625</finance_cd> \n",
      "<finance_nm>신한은행</finance_nm> \n",
      "<finance_path>국내은행/일반은행/시중은행/신한은행</finance_path> \n",
      "</row>  \n",
      "<row>  \n",
      "<finance_cd>0010005</finance_cd> \n",
      "<finance_nm>신한은행(구)[폐]</finance_nm> \n",
      "<finance_path>국내은행/일반은행/시중은행/신한은행(구)[폐]</finance_path> \n",
      "</row>  \n",
      "<row>  \n",
      "<finance_cd>0010001</finance_cd> \n",
      "<finance_nm>우리은행</finance_nm> \n",
      "<finance_path>국내은행/일반은행/시중은행/우리은행</finance_path> \n",
      "</row>  \n",
      "<row>  \n",
      "<finance_cd>0010003</finance_cd> \n",
      "<finance_nm>조흥은행[폐]</finance_nm> \n",
      "<finance_path>국내은행/일반은행/시중은행/조흥은행[폐]</finance_path> \n",
      "</row>  \n",
      "<row>  \n",
      "<finance_cd>0010012</finance_cd> \n",
      "<finance_nm>평화은행[폐]</finance_nm> \n",
      "<finance_path>국내은행/일반은행/시중은행/평화은행[폐]</finance_path> \n",
      "</row>  \n",
      "<row>  \n",
      "<finance_cd>0013909</finance_cd> \n",
      "<finance_nm>하나은행</finance_nm> \n",
      "<finance_path>국내은행/일반은행/시중은행/하나은행</finance_path> \n",
      "</row>  \n",
      "<row>  \n",
      "<finance_cd>0010010</finance_cd> \n",
      "<finance_nm>하나은행(구)[폐]</finance_nm> \n",
      "<finance_path>국내은행/일반은행/시중은행/하나은행(구)[폐]</finance_path> \n",
      "</row>  \n",
      "<row>  \n",
      "<finance_cd>0011228</finance_cd> \n",
      "<finance_nm>하나은행[폐]</finance_nm> \n",
      "<finance_path>국내은행/일반은행/시중은행/하나은행[폐]</finance_path> \n",
      "</row>  \n",
      "<row>  \n",
      "<finance_cd>0010002</finance_cd> \n",
      "<finance_nm>한국스탠다드차타드은행</finance_nm> \n",
      "<finance_path>국내은행/일반은행/시중은행/한국스탠다드차타드은행</finance_path> \n",
      "</row>  \n",
      "<row>  \n",
      "<finance_cd>0010006</finance_cd> \n",
      "<finance_nm>한국씨티은행</finance_nm> \n",
      "<finance_path>국내은행/일반은행/시중은행/한국씨티은행</finance_path> \n",
      "</row>  \n",
      "<row>  \n",
      "<finance_cd>0010013</finance_cd> \n",
      "<finance_nm>한국외환은행[폐]</finance_nm> \n",
      "<finance_path>국내은행/일반은행/시중은행/한국외환은행[폐]</finance_path> \n",
      "</row>  \n",
      "<row>  \n",
      "<finance_cd>0010015</finance_cd> \n",
      "<finance_nm>한국주택은행[폐]</finance_nm> \n",
      "<finance_path>국내은행/일반은행/시중은행/한국주택은행[폐]</finance_path> \n",
      "</row>  \n",
      "<row>  \n",
      "<finance_cd>0010023</finance_cd> \n",
      "<finance_nm>강원은행[폐]</finance_nm> \n",
      "<finance_path>국내은행/일반은행/지방은행/강원은행[폐]</finance_path> \n",
      "</row>  \n",
      "<row>  \n",
      "<finance_cd>0010024</finance_cd> \n",
      "<finance_nm>경남은행</finance_nm> \n",
      "<finance_path>국내은행/일반은행/지방은행/경남은행</finance_path> \n",
      "</row>  \n",
      "<row>  \n",
      "<finance_cd>0010019</finance_cd> \n",
      "<finance_nm>광주은행</finance_nm> \n",
      "<finance_path>국내은행/일반은행/지방은행/광주은행</finance_path> \n",
      "</row>  \n",
      "<row>  \n",
      "<finance_cd>0010016</finance_cd> \n",
      "<finance_nm>대구은행</finance_nm> \n",
      "<finance_path>국내은행/일반은행/지방은행/대구은행</finance_path> \n",
      "</row>  \n",
      "<row>  \n",
      "<finance_cd>0010017</finance_cd> \n",
      "<finance_nm>부산은행</finance_nm> \n",
      "<finance_path>국내은행/일반은행/지방은행/부산은행</finance_path> \n",
      "</row>  \n",
      "<row>  \n",
      "<finance_cd>0010022</finance_cd> \n",
      "<finance_nm>전북은행</finance_nm> \n",
      "<finance_path>국내은행/일반은행/지방은행/전북은행</finance_path> \n",
      "</row>  \n",
      "<row>  \n",
      "<finance_cd>0010020</finance_cd> \n",
      "<finance_nm>제주은행</finance_nm> \n",
      "<finance_path>국내은행/일반은행/지방은행/제주은행</finance_path> \n",
      "</row>  \n",
      "<row>  \n",
      "<finance_cd>0010025</finance_cd> \n",
      "<finance_nm>충북은행[폐]</finance_nm> \n",
      "<finance_path>국내은행/일반은행/지방은행/충북은행[폐]</finance_path> \n",
      "</row>  \n",
      "<row>  \n",
      "<finance_cd>0010027</finance_cd> \n",
      "<finance_nm>농업협동조합중앙회[폐]</finance_nm> \n",
      "<finance_path>국내은행/특수은행/농업협동조합중앙회[폐]</finance_path> \n",
      "</row>  \n",
      "<row>  \n",
      "<finance_cd>0013175</finance_cd> \n",
      "<finance_nm>농협은행주식회사</finance_nm> \n",
      "<finance_path>국내은행/특수은행/농협은행주식회사</finance_path> \n",
      "</row>  \n",
      "<row>  \n",
      "<finance_cd>0010028</finance_cd> \n",
      "<finance_nm>수산업협동조합중앙회[폐]</finance_nm> \n",
      "<finance_path>국내은행/특수은행/수산업협동조합중앙회[폐]</finance_path> \n",
      "</row>  \n",
      "<row>  \n",
      "<finance_cd>0014807</finance_cd> \n",
      "<finance_nm>수협은행</finance_nm> \n",
      "<finance_path>국내은행/특수은행/수협은행</finance_path> \n",
      "</row>  \n",
      "<row>  \n",
      "<finance_cd>0010026</finance_cd> \n",
      "<finance_nm>중소기업은행</finance_nm> \n",
      "<finance_path>국내은행/특수은행/중소기업은행</finance_path> \n",
      "</row>  \n",
      "<row>  \n",
      "<finance_cd>0010029</finance_cd> \n",
      "<finance_nm>축산업협동조합[폐]</finance_nm> \n",
      "<finance_path>국내은행/특수은행/축산업협동조합[폐]</finance_path> \n",
      "</row>  \n",
      "<row>  \n",
      "<finance_cd>0010030</finance_cd> \n",
      "<finance_nm>한국산업은행</finance_nm> \n",
      "<finance_path>국내은행/특수은행/한국산업은행</finance_path> \n",
      "</row>  \n",
      "<row>  \n",
      "<finance_cd>0010031</finance_cd> \n",
      "<finance_nm>한국수출입은행</finance_nm> \n",
      "<finance_path>국내은행/특수은행/한국수출입은행</finance_path> \n",
      "</row>  \n",
      "</list>  \n",
      "</result>\n"
     ]
    }
   ],
   "source": [
    "# resp 객체의 content를 텍스트로 추출하여 구조를 파악합니다. \n",
    "xmlObj <- content(resp, as=\"text\", encoding=\"EUC-KR\")\n",
    "cat(xmlObj)\n",
    "\n",
    "# 복잡하게 출력이 되었지만 xml 구조로 이루어져 있음을 알 수 있습니다. \n",
    "# row가 반복됩니다. "
   ]
  },
  {
   "cell_type": "code",
   "execution_count": 5,
   "metadata": {
    "slideshow": {
     "slide_type": "slide"
    }
   },
   "outputs": [
    {
     "data": {
      "text/plain": [
       "{xml_nodeset (31)}\n",
       " [1] <row>\\n  <finance_cd>0010927</finance_cd>\\n  <finance_nm>국민은행</finance_n ...\n",
       " [2] <row>\\n  <finance_cd>0010014</finance_cd>\\n  <finance_nm>국민은행(구)[폐]</fin ...\n",
       " [3] <row>\\n  <finance_cd>0010004</finance_cd>\\n  <finance_nm>서울은행[폐]</financ ...\n",
       " [4] <row>\\n  <finance_cd>0011625</finance_cd>\\n  <finance_nm>신한은행</finance_n ...\n",
       " [5] <row>\\n  <finance_cd>0010005</finance_cd>\\n  <finance_nm>신한은행(구)[폐]</fin ...\n",
       " [6] <row>\\n  <finance_cd>0010001</finance_cd>\\n  <finance_nm>우리은행</finance_n ...\n",
       " [7] <row>\\n  <finance_cd>0010003</finance_cd>\\n  <finance_nm>조흥은행[폐]</financ ...\n",
       " [8] <row>\\n  <finance_cd>0010012</finance_cd>\\n  <finance_nm>평화은행[폐]</financ ...\n",
       " [9] <row>\\n  <finance_cd>0013909</finance_cd>\\n  <finance_nm>하나은행</finance_n ...\n",
       "[10] <row>\\n  <finance_cd>0010010</finance_cd>\\n  <finance_nm>하나은행(구)[폐]</fin ...\n",
       "[11] <row>\\n  <finance_cd>0011228</finance_cd>\\n  <finance_nm>하나은행[폐]</financ ...\n",
       "[12] <row>\\n  <finance_cd>0010002</finance_cd>\\n  <finance_nm>한국스탠다드차타드은행</fi ...\n",
       "[13] <row>\\n  <finance_cd>0010006</finance_cd>\\n  <finance_nm>한국씨티은행</finance ...\n",
       "[14] <row>\\n  <finance_cd>0010013</finance_cd>\\n  <finance_nm>한국외환은행[폐]</fina ...\n",
       "[15] <row>\\n  <finance_cd>0010015</finance_cd>\\n  <finance_nm>한국주택은행[폐]</fina ...\n",
       "[16] <row>\\n  <finance_cd>0010023</finance_cd>\\n  <finance_nm>강원은행[폐]</financ ...\n",
       "[17] <row>\\n  <finance_cd>0010024</finance_cd>\\n  <finance_nm>경남은행</finance_n ...\n",
       "[18] <row>\\n  <finance_cd>0010019</finance_cd>\\n  <finance_nm>광주은행</finance_n ...\n",
       "[19] <row>\\n  <finance_cd>0010016</finance_cd>\\n  <finance_nm>대구은행</finance_n ...\n",
       "[20] <row>\\n  <finance_cd>0010017</finance_cd>\\n  <finance_nm>부산은행</finance_n ...\n",
       "..."
      ]
     },
     "metadata": {},
     "output_type": "display_data"
    }
   ],
   "source": [
    "# resp 객체를 compList에 할당합니다.  \n",
    "compInfo <- read_xml(resp) %>% xml_nodes(\"row\")\n",
    "compInfo\n",
    "\n",
    "# 총 31개의 금융회사 목록을 받았습니다."
   ]
  },
  {
   "cell_type": "code",
   "execution_count": 6,
   "metadata": {
    "slideshow": {
     "slide_type": "slide"
    }
   },
   "outputs": [
    {
     "data": {
      "text/html": [
       "<ol class=list-inline>\n",
       "\t<li>'국민은행'</li>\n",
       "\t<li>'국민은행(구)[폐]'</li>\n",
       "\t<li>'서울은행[폐]'</li>\n",
       "\t<li>'신한은행'</li>\n",
       "\t<li>'신한은행(구)[폐]'</li>\n",
       "\t<li>'우리은행'</li>\n",
       "\t<li>'조흥은행[폐]'</li>\n",
       "\t<li>'평화은행[폐]'</li>\n",
       "\t<li>'하나은행'</li>\n",
       "\t<li>'하나은행(구)[폐]'</li>\n",
       "\t<li>'하나은행[폐]'</li>\n",
       "\t<li>'한국스탠다드차타드은행'</li>\n",
       "\t<li>'한국씨티은행'</li>\n",
       "\t<li>'한국외환은행[폐]'</li>\n",
       "\t<li>'한국주택은행[폐]'</li>\n",
       "\t<li>'강원은행[폐]'</li>\n",
       "\t<li>'경남은행'</li>\n",
       "\t<li>'광주은행'</li>\n",
       "\t<li>'대구은행'</li>\n",
       "\t<li>'부산은행'</li>\n",
       "\t<li>'전북은행'</li>\n",
       "\t<li>'제주은행'</li>\n",
       "\t<li>'충북은행[폐]'</li>\n",
       "\t<li>'농업협동조합중앙회[폐]'</li>\n",
       "\t<li>'농협은행주식회사'</li>\n",
       "\t<li>'수산업협동조합중앙회[폐]'</li>\n",
       "\t<li>'수협은행'</li>\n",
       "\t<li>'중소기업은행'</li>\n",
       "\t<li>'축산업협동조합[폐]'</li>\n",
       "\t<li>'한국산업은행'</li>\n",
       "\t<li>'한국수출입은행'</li>\n",
       "</ol>\n"
      ],
      "text/latex": [
       "\\begin{enumerate*}\n",
       "\\item '국민은행'\n",
       "\\item '국민은행(구){[}폐{]}'\n",
       "\\item '서울은행{[}폐{]}'\n",
       "\\item '신한은행'\n",
       "\\item '신한은행(구){[}폐{]}'\n",
       "\\item '우리은행'\n",
       "\\item '조흥은행{[}폐{]}'\n",
       "\\item '평화은행{[}폐{]}'\n",
       "\\item '하나은행'\n",
       "\\item '하나은행(구){[}폐{]}'\n",
       "\\item '하나은행{[}폐{]}'\n",
       "\\item '한국스탠다드차타드은행'\n",
       "\\item '한국씨티은행'\n",
       "\\item '한국외환은행{[}폐{]}'\n",
       "\\item '한국주택은행{[}폐{]}'\n",
       "\\item '강원은행{[}폐{]}'\n",
       "\\item '경남은행'\n",
       "\\item '광주은행'\n",
       "\\item '대구은행'\n",
       "\\item '부산은행'\n",
       "\\item '전북은행'\n",
       "\\item '제주은행'\n",
       "\\item '충북은행{[}폐{]}'\n",
       "\\item '농업협동조합중앙회{[}폐{]}'\n",
       "\\item '농협은행주식회사'\n",
       "\\item '수산업협동조합중앙회{[}폐{]}'\n",
       "\\item '수협은행'\n",
       "\\item '중소기업은행'\n",
       "\\item '축산업협동조합{[}폐{]}'\n",
       "\\item '한국산업은행'\n",
       "\\item '한국수출입은행'\n",
       "\\end{enumerate*}\n"
      ],
      "text/markdown": [
       "1. '국민은행'\n",
       "2. '국민은행(구)[폐]'\n",
       "3. '서울은행[폐]'\n",
       "4. '신한은행'\n",
       "5. '신한은행(구)[폐]'\n",
       "6. '우리은행'\n",
       "7. '조흥은행[폐]'\n",
       "8. '평화은행[폐]'\n",
       "9. '하나은행'\n",
       "10. '하나은행(구)[폐]'\n",
       "11. '하나은행[폐]'\n",
       "12. '한국스탠다드차타드은행'\n",
       "13. '한국씨티은행'\n",
       "14. '한국외환은행[폐]'\n",
       "15. '한국주택은행[폐]'\n",
       "16. '강원은행[폐]'\n",
       "17. '경남은행'\n",
       "18. '광주은행'\n",
       "19. '대구은행'\n",
       "20. '부산은행'\n",
       "21. '전북은행'\n",
       "22. '제주은행'\n",
       "23. '충북은행[폐]'\n",
       "24. '농업협동조합중앙회[폐]'\n",
       "25. '농협은행주식회사'\n",
       "26. '수산업협동조합중앙회[폐]'\n",
       "27. '수협은행'\n",
       "28. '중소기업은행'\n",
       "29. '축산업협동조합[폐]'\n",
       "30. '한국산업은행'\n",
       "31. '한국수출입은행'\n",
       "\n",
       "\n"
      ],
      "text/plain": [
       " [1] \"국민은행\"                 \"국민은행(구)[폐]\"        \n",
       " [3] \"서울은행[폐]\"             \"신한은행\"                \n",
       " [5] \"신한은행(구)[폐]\"         \"우리은행\"                \n",
       " [7] \"조흥은행[폐]\"             \"평화은행[폐]\"            \n",
       " [9] \"하나은행\"                 \"하나은행(구)[폐]\"        \n",
       "[11] \"하나은행[폐]\"             \"한국스탠다드차타드은행\"  \n",
       "[13] \"한국씨티은행\"             \"한국외환은행[폐]\"        \n",
       "[15] \"한국주택은행[폐]\"         \"강원은행[폐]\"            \n",
       "[17] \"경남은행\"                 \"광주은행\"                \n",
       "[19] \"대구은행\"                 \"부산은행\"                \n",
       "[21] \"전북은행\"                 \"제주은행\"                \n",
       "[23] \"충북은행[폐]\"             \"농업협동조합중앙회[폐]\"  \n",
       "[25] \"농협은행주식회사\"         \"수산업협동조합중앙회[폐]\"\n",
       "[27] \"수협은행\"                 \"중소기업은행\"            \n",
       "[29] \"축산업협동조합[폐]\"       \"한국산업은행\"            \n",
       "[31] \"한국수출입은행\"          "
      ]
     },
     "metadata": {},
     "output_type": "display_data"
    }
   ],
   "source": [
    "# 금융회사이름을 벡터로 정리합니다. \n",
    "compInfo %>% xml_nodes(\"finance_nm\") %>% xml_text()"
   ]
  },
  {
   "cell_type": "code",
   "execution_count": 7,
   "metadata": {
    "collapsed": true,
    "slideshow": {
     "slide_type": "slide"
    }
   },
   "outputs": [],
   "source": [
    "# 위와 같은 방법으로 텍스트를 추출해주는 나만의 함수를 하나 만듭니다. \n",
    "# xml_nodes() 대신 xml_node()를 사용한 것에 주의합니다. \n",
    "# xml_nodes()는 공란을 건너뜁니다. 이 경우 데이터프레임을 만들 때 에러가 발생! \n",
    "# 그러므로 공란을 NA로 반환하는 xml_node()를 대신 사용합니다. \n",
    "getXmlText <- function(x, var) {\n",
    "    result <- x %>% xml_node(var) %>% xml_text()\n",
    "    return(result)\n",
    "}"
   ]
  },
  {
   "cell_type": "code",
   "execution_count": 8,
   "metadata": {
    "slideshow": {
     "slide_type": "slide"
    }
   },
   "outputs": [
    {
     "data": {
      "text/html": [
       "<ol class=list-inline>\n",
       "\t<li>'국민은행'</li>\n",
       "\t<li>'국민은행(구)[폐]'</li>\n",
       "\t<li>'서울은행[폐]'</li>\n",
       "\t<li>'신한은행'</li>\n",
       "\t<li>'신한은행(구)[폐]'</li>\n",
       "\t<li>'우리은행'</li>\n",
       "\t<li>'조흥은행[폐]'</li>\n",
       "\t<li>'평화은행[폐]'</li>\n",
       "\t<li>'하나은행'</li>\n",
       "\t<li>'하나은행(구)[폐]'</li>\n",
       "\t<li>'하나은행[폐]'</li>\n",
       "\t<li>'한국스탠다드차타드은행'</li>\n",
       "\t<li>'한국씨티은행'</li>\n",
       "\t<li>'한국외환은행[폐]'</li>\n",
       "\t<li>'한국주택은행[폐]'</li>\n",
       "\t<li>'강원은행[폐]'</li>\n",
       "\t<li>'경남은행'</li>\n",
       "\t<li>'광주은행'</li>\n",
       "\t<li>'대구은행'</li>\n",
       "\t<li>'부산은행'</li>\n",
       "\t<li>'전북은행'</li>\n",
       "\t<li>'제주은행'</li>\n",
       "\t<li>'충북은행[폐]'</li>\n",
       "\t<li>'농업협동조합중앙회[폐]'</li>\n",
       "\t<li>'농협은행주식회사'</li>\n",
       "\t<li>'수산업협동조합중앙회[폐]'</li>\n",
       "\t<li>'수협은행'</li>\n",
       "\t<li>'중소기업은행'</li>\n",
       "\t<li>'축산업협동조합[폐]'</li>\n",
       "\t<li>'한국산업은행'</li>\n",
       "\t<li>'한국수출입은행'</li>\n",
       "</ol>\n"
      ],
      "text/latex": [
       "\\begin{enumerate*}\n",
       "\\item '국민은행'\n",
       "\\item '국민은행(구){[}폐{]}'\n",
       "\\item '서울은행{[}폐{]}'\n",
       "\\item '신한은행'\n",
       "\\item '신한은행(구){[}폐{]}'\n",
       "\\item '우리은행'\n",
       "\\item '조흥은행{[}폐{]}'\n",
       "\\item '평화은행{[}폐{]}'\n",
       "\\item '하나은행'\n",
       "\\item '하나은행(구){[}폐{]}'\n",
       "\\item '하나은행{[}폐{]}'\n",
       "\\item '한국스탠다드차타드은행'\n",
       "\\item '한국씨티은행'\n",
       "\\item '한국외환은행{[}폐{]}'\n",
       "\\item '한국주택은행{[}폐{]}'\n",
       "\\item '강원은행{[}폐{]}'\n",
       "\\item '경남은행'\n",
       "\\item '광주은행'\n",
       "\\item '대구은행'\n",
       "\\item '부산은행'\n",
       "\\item '전북은행'\n",
       "\\item '제주은행'\n",
       "\\item '충북은행{[}폐{]}'\n",
       "\\item '농업협동조합중앙회{[}폐{]}'\n",
       "\\item '농협은행주식회사'\n",
       "\\item '수산업협동조합중앙회{[}폐{]}'\n",
       "\\item '수협은행'\n",
       "\\item '중소기업은행'\n",
       "\\item '축산업협동조합{[}폐{]}'\n",
       "\\item '한국산업은행'\n",
       "\\item '한국수출입은행'\n",
       "\\end{enumerate*}\n"
      ],
      "text/markdown": [
       "1. '국민은행'\n",
       "2. '국민은행(구)[폐]'\n",
       "3. '서울은행[폐]'\n",
       "4. '신한은행'\n",
       "5. '신한은행(구)[폐]'\n",
       "6. '우리은행'\n",
       "7. '조흥은행[폐]'\n",
       "8. '평화은행[폐]'\n",
       "9. '하나은행'\n",
       "10. '하나은행(구)[폐]'\n",
       "11. '하나은행[폐]'\n",
       "12. '한국스탠다드차타드은행'\n",
       "13. '한국씨티은행'\n",
       "14. '한국외환은행[폐]'\n",
       "15. '한국주택은행[폐]'\n",
       "16. '강원은행[폐]'\n",
       "17. '경남은행'\n",
       "18. '광주은행'\n",
       "19. '대구은행'\n",
       "20. '부산은행'\n",
       "21. '전북은행'\n",
       "22. '제주은행'\n",
       "23. '충북은행[폐]'\n",
       "24. '농업협동조합중앙회[폐]'\n",
       "25. '농협은행주식회사'\n",
       "26. '수산업협동조합중앙회[폐]'\n",
       "27. '수협은행'\n",
       "28. '중소기업은행'\n",
       "29. '축산업협동조합[폐]'\n",
       "30. '한국산업은행'\n",
       "31. '한국수출입은행'\n",
       "\n",
       "\n"
      ],
      "text/plain": [
       " [1] \"국민은행\"                 \"국민은행(구)[폐]\"        \n",
       " [3] \"서울은행[폐]\"             \"신한은행\"                \n",
       " [5] \"신한은행(구)[폐]\"         \"우리은행\"                \n",
       " [7] \"조흥은행[폐]\"             \"평화은행[폐]\"            \n",
       " [9] \"하나은행\"                 \"하나은행(구)[폐]\"        \n",
       "[11] \"하나은행[폐]\"             \"한국스탠다드차타드은행\"  \n",
       "[13] \"한국씨티은행\"             \"한국외환은행[폐]\"        \n",
       "[15] \"한국주택은행[폐]\"         \"강원은행[폐]\"            \n",
       "[17] \"경남은행\"                 \"광주은행\"                \n",
       "[19] \"대구은행\"                 \"부산은행\"                \n",
       "[21] \"전북은행\"                 \"제주은행\"                \n",
       "[23] \"충북은행[폐]\"             \"농업협동조합중앙회[폐]\"  \n",
       "[25] \"농협은행주식회사\"         \"수산업협동조합중앙회[폐]\"\n",
       "[27] \"수협은행\"                 \"중소기업은행\"            \n",
       "[29] \"축산업협동조합[폐]\"       \"한국산업은행\"            \n",
       "[31] \"한국수출입은행\"          "
      ]
     },
     "metadata": {},
     "output_type": "display_data"
    }
   ],
   "source": [
    "# 나만의 함수를 테스트합니다. \n",
    "getXmlText(compInfo, \"finance_nm\")"
   ]
  },
  {
   "cell_type": "code",
   "execution_count": 9,
   "metadata": {
    "slideshow": {
     "slide_type": "slide"
    }
   },
   "outputs": [
    {
     "data": {
      "text/html": [
       "<table>\n",
       "<thead><tr><th scope=col>sector</th><th scope=col>compCd</th><th scope=col>compNm</th><th scope=col>compPA</th></tr></thead>\n",
       "<tbody>\n",
       "\t<tr><td>A                                          </td><td>0010927                                    </td><td>국민은행                                   </td><td>국내은행/일반은행/시중은행/국민은행        </td></tr>\n",
       "\t<tr><td>A                                          </td><td>0010014                                    </td><td>국민은행(구)[폐]                           </td><td>국내은행/일반은행/시중은행/국민은행(구)[폐]</td></tr>\n",
       "\t<tr><td>A                                          </td><td>0010004                                    </td><td>서울은행[폐]                               </td><td>국내은행/일반은행/시중은행/서울은행[폐]    </td></tr>\n",
       "\t<tr><td>A                                          </td><td>0011625                                    </td><td>신한은행                                   </td><td>국내은행/일반은행/시중은행/신한은행        </td></tr>\n",
       "\t<tr><td>A                                          </td><td>0010005                                    </td><td>신한은행(구)[폐]                           </td><td>국내은행/일반은행/시중은행/신한은행(구)[폐]</td></tr>\n",
       "\t<tr><td>A                                          </td><td>0010001                                    </td><td>우리은행                                   </td><td>국내은행/일반은행/시중은행/우리은행        </td></tr>\n",
       "</tbody>\n",
       "</table>\n"
      ],
      "text/latex": [
       "\\begin{tabular}{r|llll}\n",
       " sector & compCd & compNm & compPA\\\\\n",
       "\\hline\n",
       "\t A                                           & 0010927                                     & 국민은행                                    & 국내은행/일반은행/시중은행/국민은행        \\\\\n",
       "\t A                                               & 0010014                                         & 국민은행(구){[}폐{]}                            & 국내은행/일반은행/시중은행/국민은행(구){[}폐{]}\\\\\n",
       "\t A                                               & 0010004                                         & 서울은행{[}폐{]}                                & 국내은행/일반은행/시중은행/서울은행{[}폐{]}    \\\\\n",
       "\t A                                           & 0011625                                     & 신한은행                                    & 국내은행/일반은행/시중은행/신한은행        \\\\\n",
       "\t A                                               & 0010005                                         & 신한은행(구){[}폐{]}                            & 국내은행/일반은행/시중은행/신한은행(구){[}폐{]}\\\\\n",
       "\t A                                           & 0010001                                     & 우리은행                                    & 국내은행/일반은행/시중은행/우리은행        \\\\\n",
       "\\end{tabular}\n"
      ],
      "text/markdown": [
       "\n",
       "sector | compCd | compNm | compPA | \n",
       "|---|---|---|---|---|---|\n",
       "| A                                           | 0010927                                     | 국민은행                                    | 국내은행/일반은행/시중은행/국민은행         | \n",
       "| A                                           | 0010014                                     | 국민은행(구)[폐]                            | 국내은행/일반은행/시중은행/국민은행(구)[폐] | \n",
       "| A                                           | 0010004                                     | 서울은행[폐]                                | 국내은행/일반은행/시중은행/서울은행[폐]     | \n",
       "| A                                           | 0011625                                     | 신한은행                                    | 국내은행/일반은행/시중은행/신한은행         | \n",
       "| A                                           | 0010005                                     | 신한은행(구)[폐]                            | 국내은행/일반은행/시중은행/신한은행(구)[폐] | \n",
       "| A                                           | 0010001                                     | 우리은행                                    | 국내은행/일반은행/시중은행/우리은행         | \n",
       "\n",
       "\n"
      ],
      "text/plain": [
       "  sector compCd  compNm           compPA                                     \n",
       "1 A      0010927 국민은행         국내은행/일반은행/시중은행/국민은행        \n",
       "2 A      0010014 국민은행(구)[폐] 국내은행/일반은행/시중은행/국민은행(구)[폐]\n",
       "3 A      0010004 서울은행[폐]     국내은행/일반은행/시중은행/서울은행[폐]    \n",
       "4 A      0011625 신한은행         국내은행/일반은행/시중은행/신한은행        \n",
       "5 A      0010005 신한은행(구)[폐] 국내은행/일반은행/시중은행/신한은행(구)[폐]\n",
       "6 A      0010001 우리은행         국내은행/일반은행/시중은행/우리은행        "
      ]
     },
     "metadata": {},
     "output_type": "display_data"
    }
   ],
   "source": [
    "# 이제 데이터프레임으로 만듭니다. \n",
    "compList <- data.frame(sector = sector, \n",
    "                       compCd = getXmlText(compInfo, \"finance_cd\"),\n",
    "                       compNm = getXmlText(compInfo, \"finance_nm\"),\n",
    "                       compPA = getXmlText(compInfo, \"finance_path\"))\n",
    "\n",
    "head(compList)"
   ]
  },
  {
   "cell_type": "code",
   "execution_count": 10,
   "metadata": {
    "slideshow": {
     "slide_type": "slide"
    }
   },
   "outputs": [
    {
     "name": "stdout",
     "output_type": "stream",
     "text": [
      "'data.frame':\t429 obs. of  4 variables:\n",
      " $ sector: chr  \"A\" \"A\" \"A\" \"A\" ...\n",
      " $ compCd: chr  \"0010927\" \"0010014\" \"0010004\" \"0011625\" ...\n",
      " $ compNm: chr  \"국민은행\" \"국민은행(구)[폐]\" \"서울은행[폐]\" \"신한은행\" ...\n",
      " $ compPa: chr  \"국내은행/일반은행/시중은행/국민은행\" \"국내은행/일반은행/시중은행/국민은행(구)[폐]\" \"국내은행/일반은행/시중은행/서울은행[폐]\" \"국내은행/일반은행/시중은행/신한은행\" ...\n"
     ]
    }
   ],
   "source": [
    "# 이제 관심있는 모든 금융권역에 대해서 금융회사 리스트를 수집합니다. \n",
    "sub1 <- \"companySearch.xml\"\n",
    "compList <- data.frame()\n",
    "\n",
    "for (sector in sectorCd) {\n",
    "  tryCatch({\n",
    "    URL <- paste(main, \n",
    "                 sub1, \n",
    "                 \"?lang=\", lang, \n",
    "                 \"&auth=\", auth, \n",
    "                 \"&partDiv=\", sector, \n",
    "                 sep=\"\")\n",
    "    \n",
    "    resp <- GET(URL)\n",
    "    compInfo <- read_xml(resp) %>% xml_nodes(\"row\")\n",
    "    df <- data.frame(sector = sector, \n",
    "                     compCd = getXmlText(compInfo, \"finance_cd\"),\n",
    "                     compNm = getXmlText(compInfo, \"finance_nm\"),\n",
    "                     compPa = getXmlText(compInfo, \"finance_path\"))\n",
    "    \n",
    "    compList <- rbind(compList, df)\n",
    "  }, error=function(e) e)\n",
    "}\n",
    "\n",
    "str(compList)"
   ]
  },
  {
   "cell_type": "code",
   "execution_count": 11,
   "metadata": {
    "slideshow": {
     "slide_type": "slide"
    }
   },
   "outputs": [
    {
     "data": {
      "text/html": [
       "<table>\n",
       "<thead><tr><th scope=col>sector</th><th scope=col>compCd</th><th scope=col>compNm</th><th scope=col>compPa</th><th scope=col>status</th></tr></thead>\n",
       "<tbody>\n",
       "\t<tr><td>A                                          </td><td>0010927                                    </td><td>국민은행                                   </td><td>국내은행/일반은행/시중은행/국민은행        </td><td>운영                                       </td></tr>\n",
       "\t<tr><td>A                                          </td><td>0010014                                    </td><td>국민은행(구)[폐]                           </td><td>국내은행/일반은행/시중은행/국민은행(구)[폐]</td><td>폐업                                       </td></tr>\n",
       "\t<tr><td>A                                          </td><td>0010004                                    </td><td>서울은행[폐]                               </td><td>국내은행/일반은행/시중은행/서울은행[폐]    </td><td>폐업                                       </td></tr>\n",
       "\t<tr><td>A                                          </td><td>0011625                                    </td><td>신한은행                                   </td><td>국내은행/일반은행/시중은행/신한은행        </td><td>운영                                       </td></tr>\n",
       "\t<tr><td>A                                          </td><td>0010005                                    </td><td>신한은행(구)[폐]                           </td><td>국내은행/일반은행/시중은행/신한은행(구)[폐]</td><td>폐업                                       </td></tr>\n",
       "\t<tr><td>A                                          </td><td>0010001                                    </td><td>우리은행                                   </td><td>국내은행/일반은행/시중은행/우리은행        </td><td>운영                                       </td></tr>\n",
       "</tbody>\n",
       "</table>\n"
      ],
      "text/latex": [
       "\\begin{tabular}{r|lllll}\n",
       " sector & compCd & compNm & compPa & status\\\\\n",
       "\\hline\n",
       "\t A                                           & 0010927                                     & 국민은행                                    & 국내은행/일반은행/시중은행/국민은행         & 운영                                       \\\\\n",
       "\t A                                               & 0010014                                         & 국민은행(구){[}폐{]}                            & 국내은행/일반은행/시중은행/국민은행(구){[}폐{]} & 폐업                                           \\\\\n",
       "\t A                                               & 0010004                                         & 서울은행{[}폐{]}                                & 국내은행/일반은행/시중은행/서울은행{[}폐{]}     & 폐업                                           \\\\\n",
       "\t A                                           & 0011625                                     & 신한은행                                    & 국내은행/일반은행/시중은행/신한은행         & 운영                                       \\\\\n",
       "\t A                                               & 0010005                                         & 신한은행(구){[}폐{]}                            & 국내은행/일반은행/시중은행/신한은행(구){[}폐{]} & 폐업                                           \\\\\n",
       "\t A                                           & 0010001                                     & 우리은행                                    & 국내은행/일반은행/시중은행/우리은행         & 운영                                       \\\\\n",
       "\\end{tabular}\n"
      ],
      "text/markdown": [
       "\n",
       "sector | compCd | compNm | compPa | status | \n",
       "|---|---|---|---|---|---|\n",
       "| A                                           | 0010927                                     | 국민은행                                    | 국내은행/일반은행/시중은행/국민은행         | 운영                                        | \n",
       "| A                                           | 0010014                                     | 국민은행(구)[폐]                            | 국내은행/일반은행/시중은행/국민은행(구)[폐] | 폐업                                        | \n",
       "| A                                           | 0010004                                     | 서울은행[폐]                                | 국내은행/일반은행/시중은행/서울은행[폐]     | 폐업                                        | \n",
       "| A                                           | 0011625                                     | 신한은행                                    | 국내은행/일반은행/시중은행/신한은행         | 운영                                        | \n",
       "| A                                           | 0010005                                     | 신한은행(구)[폐]                            | 국내은행/일반은행/시중은행/신한은행(구)[폐] | 폐업                                        | \n",
       "| A                                           | 0010001                                     | 우리은행                                    | 국내은행/일반은행/시중은행/우리은행         | 운영                                        | \n",
       "\n",
       "\n"
      ],
      "text/plain": [
       "  sector compCd  compNm           compPa                                     \n",
       "1 A      0010927 국민은행         국내은행/일반은행/시중은행/국민은행        \n",
       "2 A      0010014 국민은행(구)[폐] 국내은행/일반은행/시중은행/국민은행(구)[폐]\n",
       "3 A      0010004 서울은행[폐]     국내은행/일반은행/시중은행/서울은행[폐]    \n",
       "4 A      0011625 신한은행         국내은행/일반은행/시중은행/신한은행        \n",
       "5 A      0010005 신한은행(구)[폐] 국내은행/일반은행/시중은행/신한은행(구)[폐]\n",
       "6 A      0010001 우리은행         국내은행/일반은행/시중은행/우리은행        \n",
       "  status\n",
       "1 운영  \n",
       "2 폐업  \n",
       "3 폐업  \n",
       "4 운영  \n",
       "5 폐업  \n",
       "6 운영  "
      ]
     },
     "metadata": {},
     "output_type": "display_data"
    }
   ],
   "source": [
    "# 폐업구분 컬럼 생성하기\n",
    "lastStr <- substr(compList$compNm, nchar(compList$compNm)-2, nchar(compList$compNm))\n",
    "compList$status <- ifelse(lastStr==\"[폐]\",\"폐업\",\"운영\")\n",
    "head(compList)"
   ]
  },
  {
   "cell_type": "code",
   "execution_count": 12,
   "metadata": {
    "slideshow": {
     "slide_type": "slide"
    }
   },
   "outputs": [
    {
     "data": {
      "text/html": [
       "<table>\n",
       "<thead><tr><th scope=col>sector</th><th scope=col>compCd</th><th scope=col>compNm</th><th scope=col>compPa</th><th scope=col>status</th><th scope=col>depth</th><th scope=col>path1</th><th scope=col>path2</th><th scope=col>path3</th></tr></thead>\n",
       "<tbody>\n",
       "\t<tr><td>A                                          </td><td>0010927                                    </td><td>국민은행                                   </td><td>국내은행/일반은행/시중은행/국민은행        </td><td>운영                                       </td><td>4                                          </td><td>국내은행                                   </td><td>일반은행                                   </td><td>시중은행                                   </td></tr>\n",
       "\t<tr><td>A                                          </td><td>0010014                                    </td><td>국민은행(구)[폐]                           </td><td>국내은행/일반은행/시중은행/국민은행(구)[폐]</td><td>폐업                                       </td><td>4                                          </td><td>국내은행                                   </td><td>일반은행                                   </td><td>시중은행                                   </td></tr>\n",
       "\t<tr><td>A                                          </td><td>0010004                                    </td><td>서울은행[폐]                               </td><td>국내은행/일반은행/시중은행/서울은행[폐]    </td><td>폐업                                       </td><td>4                                          </td><td>국내은행                                   </td><td>일반은행                                   </td><td>시중은행                                   </td></tr>\n",
       "\t<tr><td>A                                          </td><td>0011625                                    </td><td>신한은행                                   </td><td>국내은행/일반은행/시중은행/신한은행        </td><td>운영                                       </td><td>4                                          </td><td>국내은행                                   </td><td>일반은행                                   </td><td>시중은행                                   </td></tr>\n",
       "\t<tr><td>A                                          </td><td>0010005                                    </td><td>신한은행(구)[폐]                           </td><td>국내은행/일반은행/시중은행/신한은행(구)[폐]</td><td>폐업                                       </td><td>4                                          </td><td>국내은행                                   </td><td>일반은행                                   </td><td>시중은행                                   </td></tr>\n",
       "\t<tr><td>A                                          </td><td>0010001                                    </td><td>우리은행                                   </td><td>국내은행/일반은행/시중은행/우리은행        </td><td>운영                                       </td><td>4                                          </td><td>국내은행                                   </td><td>일반은행                                   </td><td>시중은행                                   </td></tr>\n",
       "</tbody>\n",
       "</table>\n"
      ],
      "text/latex": [
       "\\begin{tabular}{r|lllllllll}\n",
       " sector & compCd & compNm & compPa & status & depth & path1 & path2 & path3\\\\\n",
       "\\hline\n",
       "\t A                                           & 0010927                                     & 국민은행                                    & 국내은행/일반은행/시중은행/국민은행         & 운영                                        & 4                                           & 국내은행                                    & 일반은행                                    & 시중은행                                   \\\\\n",
       "\t A                                               & 0010014                                         & 국민은행(구){[}폐{]}                            & 국내은행/일반은행/시중은행/국민은행(구){[}폐{]} & 폐업                                            & 4                                               & 국내은행                                        & 일반은행                                        & 시중은행                                       \\\\\n",
       "\t A                                               & 0010004                                         & 서울은행{[}폐{]}                                & 국내은행/일반은행/시중은행/서울은행{[}폐{]}     & 폐업                                            & 4                                               & 국내은행                                        & 일반은행                                        & 시중은행                                       \\\\\n",
       "\t A                                           & 0011625                                     & 신한은행                                    & 국내은행/일반은행/시중은행/신한은행         & 운영                                        & 4                                           & 국내은행                                    & 일반은행                                    & 시중은행                                   \\\\\n",
       "\t A                                               & 0010005                                         & 신한은행(구){[}폐{]}                            & 국내은행/일반은행/시중은행/신한은행(구){[}폐{]} & 폐업                                            & 4                                               & 국내은행                                        & 일반은행                                        & 시중은행                                       \\\\\n",
       "\t A                                           & 0010001                                     & 우리은행                                    & 국내은행/일반은행/시중은행/우리은행         & 운영                                        & 4                                           & 국내은행                                    & 일반은행                                    & 시중은행                                   \\\\\n",
       "\\end{tabular}\n"
      ],
      "text/markdown": [
       "\n",
       "sector | compCd | compNm | compPa | status | depth | path1 | path2 | path3 | \n",
       "|---|---|---|---|---|---|\n",
       "| A                                           | 0010927                                     | 국민은행                                    | 국내은행/일반은행/시중은행/국민은행         | 운영                                        | 4                                           | 국내은행                                    | 일반은행                                    | 시중은행                                    | \n",
       "| A                                           | 0010014                                     | 국민은행(구)[폐]                            | 국내은행/일반은행/시중은행/국민은행(구)[폐] | 폐업                                        | 4                                           | 국내은행                                    | 일반은행                                    | 시중은행                                    | \n",
       "| A                                           | 0010004                                     | 서울은행[폐]                                | 국내은행/일반은행/시중은행/서울은행[폐]     | 폐업                                        | 4                                           | 국내은행                                    | 일반은행                                    | 시중은행                                    | \n",
       "| A                                           | 0011625                                     | 신한은행                                    | 국내은행/일반은행/시중은행/신한은행         | 운영                                        | 4                                           | 국내은행                                    | 일반은행                                    | 시중은행                                    | \n",
       "| A                                           | 0010005                                     | 신한은행(구)[폐]                            | 국내은행/일반은행/시중은행/신한은행(구)[폐] | 폐업                                        | 4                                           | 국내은행                                    | 일반은행                                    | 시중은행                                    | \n",
       "| A                                           | 0010001                                     | 우리은행                                    | 국내은행/일반은행/시중은행/우리은행         | 운영                                        | 4                                           | 국내은행                                    | 일반은행                                    | 시중은행                                    | \n",
       "\n",
       "\n"
      ],
      "text/plain": [
       "  sector compCd  compNm           compPa                                     \n",
       "1 A      0010927 국민은행         국내은행/일반은행/시중은행/국민은행        \n",
       "2 A      0010014 국민은행(구)[폐] 국내은행/일반은행/시중은행/국민은행(구)[폐]\n",
       "3 A      0010004 서울은행[폐]     국내은행/일반은행/시중은행/서울은행[폐]    \n",
       "4 A      0011625 신한은행         국내은행/일반은행/시중은행/신한은행        \n",
       "5 A      0010005 신한은행(구)[폐] 국내은행/일반은행/시중은행/신한은행(구)[폐]\n",
       "6 A      0010001 우리은행         국내은행/일반은행/시중은행/우리은행        \n",
       "  status depth path1    path2    path3   \n",
       "1 운영   4     국내은행 일반은행 시중은행\n",
       "2 폐업   4     국내은행 일반은행 시중은행\n",
       "3 폐업   4     국내은행 일반은행 시중은행\n",
       "4 운영   4     국내은행 일반은행 시중은행\n",
       "5 폐업   4     국내은행 일반은행 시중은행\n",
       "6 운영   4     국내은행 일반은행 시중은행"
      ]
     },
     "metadata": {},
     "output_type": "display_data"
    }
   ],
   "source": [
    "# 회사경로(finance_path) 정리 \n",
    "# 금융업종마다 경로의 깊이가 다름 \n",
    "path <- str_split(compList$compPa,\"/\")\n",
    "\n",
    "for (i in 1:length(path)) {\n",
    "  compList$depth[i] <- length(path[[i]])\n",
    "}\n",
    "           \n",
    "# 대/중/소분류 컬럼 생성하고, 불필요한 컬럼값은 NA로 치환하기\n",
    "compList$path1 <- sapply(path, \"[\", 1)\n",
    "compList$path2 <- sapply(path, \"[\", 2)\n",
    "compList$path3 <- sapply(path, \"[\", 3)\n",
    "\n",
    "# 공백을 NA로 치환 \n",
    "compList$path3[compList$depth==3] <- NA\n",
    "compList$path2[compList$depth==2] <- NA \n",
    "           \n",
    "head(compList)"
   ]
  },
  {
   "cell_type": "code",
   "execution_count": 13,
   "metadata": {
    "slideshow": {
     "slide_type": "slide"
    }
   },
   "outputs": [
    {
     "data": {
      "text/html": [
       "<table>\n",
       "<thead><tr><th scope=col>sector</th><th scope=col>compCd</th><th scope=col>compNm</th><th scope=col>status</th><th scope=col>depth</th><th scope=col>path1</th><th scope=col>path2</th><th scope=col>path3</th></tr></thead>\n",
       "<tbody>\n",
       "\t<tr><td>A               </td><td>0010927         </td><td>국민은행        </td><td>운영            </td><td>4               </td><td>국내은행        </td><td>일반은행        </td><td>시중은행        </td></tr>\n",
       "\t<tr><td>A               </td><td>0010014         </td><td>국민은행(구)[폐]</td><td>폐업            </td><td>4               </td><td>국내은행        </td><td>일반은행        </td><td>시중은행        </td></tr>\n",
       "\t<tr><td>A               </td><td>0010004         </td><td>서울은행[폐]    </td><td>폐업            </td><td>4               </td><td>국내은행        </td><td>일반은행        </td><td>시중은행        </td></tr>\n",
       "\t<tr><td>A               </td><td>0011625         </td><td>신한은행        </td><td>운영            </td><td>4               </td><td>국내은행        </td><td>일반은행        </td><td>시중은행        </td></tr>\n",
       "\t<tr><td>A               </td><td>0010005         </td><td>신한은행(구)[폐]</td><td>폐업            </td><td>4               </td><td>국내은행        </td><td>일반은행        </td><td>시중은행        </td></tr>\n",
       "\t<tr><td>A               </td><td>0010001         </td><td>우리은행        </td><td>운영            </td><td>4               </td><td>국내은행        </td><td>일반은행        </td><td>시중은행        </td></tr>\n",
       "</tbody>\n",
       "</table>\n"
      ],
      "text/latex": [
       "\\begin{tabular}{r|llllllll}\n",
       " sector & compCd & compNm & status & depth & path1 & path2 & path3\\\\\n",
       "\\hline\n",
       "\t A                & 0010927          & 국민은행         & 운영             & 4                & 국내은행         & 일반은행         & 시중은행        \\\\\n",
       "\t A                    & 0010014              & 국민은행(구){[}폐{]} & 폐업                 & 4                    & 국내은행             & 일반은행             & 시중은행            \\\\\n",
       "\t A                    & 0010004              & 서울은행{[}폐{]}     & 폐업                 & 4                    & 국내은행             & 일반은행             & 시중은행            \\\\\n",
       "\t A                & 0011625          & 신한은행         & 운영             & 4                & 국내은행         & 일반은행         & 시중은행        \\\\\n",
       "\t A                    & 0010005              & 신한은행(구){[}폐{]} & 폐업                 & 4                    & 국내은행             & 일반은행             & 시중은행            \\\\\n",
       "\t A                & 0010001          & 우리은행         & 운영             & 4                & 국내은행         & 일반은행         & 시중은행        \\\\\n",
       "\\end{tabular}\n"
      ],
      "text/markdown": [
       "\n",
       "sector | compCd | compNm | status | depth | path1 | path2 | path3 | \n",
       "|---|---|---|---|---|---|\n",
       "| A                | 0010927          | 국민은행         | 운영             | 4                | 국내은행         | 일반은행         | 시중은행         | \n",
       "| A                | 0010014          | 국민은행(구)[폐] | 폐업             | 4                | 국내은행         | 일반은행         | 시중은행         | \n",
       "| A                | 0010004          | 서울은행[폐]     | 폐업             | 4                | 국내은행         | 일반은행         | 시중은행         | \n",
       "| A                | 0011625          | 신한은행         | 운영             | 4                | 국내은행         | 일반은행         | 시중은행         | \n",
       "| A                | 0010005          | 신한은행(구)[폐] | 폐업             | 4                | 국내은행         | 일반은행         | 시중은행         | \n",
       "| A                | 0010001          | 우리은행         | 운영             | 4                | 국내은행         | 일반은행         | 시중은행         | \n",
       "\n",
       "\n"
      ],
      "text/plain": [
       "  sector compCd  compNm           status depth path1    path2    path3   \n",
       "1 A      0010927 국민은행         운영   4     국내은행 일반은행 시중은행\n",
       "2 A      0010014 국민은행(구)[폐] 폐업   4     국내은행 일반은행 시중은행\n",
       "3 A      0010004 서울은행[폐]     폐업   4     국내은행 일반은행 시중은행\n",
       "4 A      0011625 신한은행         운영   4     국내은행 일반은행 시중은행\n",
       "5 A      0010005 신한은행(구)[폐] 폐업   4     국내은행 일반은행 시중은행\n",
       "6 A      0010001 우리은행         운영   4     국내은행 일반은행 시중은행"
      ]
     },
     "metadata": {},
     "output_type": "display_data"
    }
   ],
   "source": [
    "# 컬럼 정리하기\n",
    "compList <- compList[,-4]\n",
    "head(compList)"
   ]
  },
  {
   "cell_type": "code",
   "execution_count": 14,
   "metadata": {
    "slideshow": {
     "slide_type": "slide"
    }
   },
   "outputs": [
    {
     "name": "stdout",
     "output_type": "stream",
     "text": [
      "'data.frame':\t321 obs. of  6 variables:\n",
      " $ sector: chr  \"A\" \"A\" \"A\" \"A\" ...\n",
      " $ sectNm: chr  \"국내은행\" \"국내은행\" \"국내은행\" \"국내은행\" ...\n",
      " $ statTb: chr  \"A\" \"A\" \"A\" \"B\" ...\n",
      " $ statDv: chr  \"일반현황\" \"일반현황\" \"일반현황\" \"재무현황\" ...\n",
      " $ statCd: chr  \"SA001\" \"SA002\" \"SA026\" \"SA003\" ...\n",
      " $ statNm: chr  \"임직원현황\" \"영업점포현황\" \"자동화기기 설치현황\" \"요약재무상태표(자산-은행계정)\" ...\n"
     ]
    },
    {
     "data": {
      "text/html": [
       "<table>\n",
       "<thead><tr><th scope=col>sector</th><th scope=col>sectNm</th><th scope=col>statTb</th><th scope=col>statDv</th><th scope=col>statCd</th><th scope=col>statNm</th></tr></thead>\n",
       "<tbody>\n",
       "\t<tr><td>A                                    </td><td>국내은행                             </td><td>A                                    </td><td>일반현황                             </td><td>SA001                                </td><td>임직원현황                           </td></tr>\n",
       "\t<tr><td>A                                    </td><td>국내은행                             </td><td>A                                    </td><td>일반현황                             </td><td>SA002                                </td><td>영업점포현황                         </td></tr>\n",
       "\t<tr><td>A                                    </td><td>국내은행                             </td><td>A                                    </td><td>일반현황                             </td><td>SA026                                </td><td>자동화기기 설치현황                  </td></tr>\n",
       "\t<tr><td>A                                    </td><td>국내은행                             </td><td>B                                    </td><td>재무현황                             </td><td>SA003                                </td><td>요약재무상태표(자산-은행계정)        </td></tr>\n",
       "\t<tr><td>A                                    </td><td>국내은행                             </td><td>B                                    </td><td>재무현황                             </td><td>SA004                                </td><td>요약재무상태표(부채 및 자본-은행계정)</td></tr>\n",
       "\t<tr><td>A                                    </td><td>국내은행                             </td><td>B                                    </td><td>재무현황                             </td><td>SA005                                </td><td>난외계정(은행계정)                   </td></tr>\n",
       "</tbody>\n",
       "</table>\n"
      ],
      "text/latex": [
       "\\begin{tabular}{r|llllll}\n",
       " sector & sectNm & statTb & statDv & statCd & statNm\\\\\n",
       "\\hline\n",
       "\t A                                     & 국내은행                              & A                                     & 일반현황                              & SA001                                 & 임직원현황                           \\\\\n",
       "\t A                                     & 국내은행                              & A                                     & 일반현황                              & SA002                                 & 영업점포현황                         \\\\\n",
       "\t A                                     & 국내은행                              & A                                     & 일반현황                              & SA026                                 & 자동화기기 설치현황                  \\\\\n",
       "\t A                                     & 국내은행                              & B                                     & 재무현황                              & SA003                                 & 요약재무상태표(자산-은행계정)        \\\\\n",
       "\t A                                     & 국내은행                              & B                                     & 재무현황                              & SA004                                 & 요약재무상태표(부채 및 자본-은행계정)\\\\\n",
       "\t A                                     & 국내은행                              & B                                     & 재무현황                              & SA005                                 & 난외계정(은행계정)                   \\\\\n",
       "\\end{tabular}\n"
      ],
      "text/markdown": [
       "\n",
       "sector | sectNm | statTb | statDv | statCd | statNm | \n",
       "|---|---|---|---|---|---|\n",
       "| A                                     | 국내은행                              | A                                     | 일반현황                              | SA001                                 | 임직원현황                            | \n",
       "| A                                     | 국내은행                              | A                                     | 일반현황                              | SA002                                 | 영업점포현황                          | \n",
       "| A                                     | 국내은행                              | A                                     | 일반현황                              | SA026                                 | 자동화기기 설치현황                   | \n",
       "| A                                     | 국내은행                              | B                                     | 재무현황                              | SA003                                 | 요약재무상태표(자산-은행계정)         | \n",
       "| A                                     | 국내은행                              | B                                     | 재무현황                              | SA004                                 | 요약재무상태표(부채 및 자본-은행계정) | \n",
       "| A                                     | 국내은행                              | B                                     | 재무현황                              | SA005                                 | 난외계정(은행계정)                    | \n",
       "\n",
       "\n"
      ],
      "text/plain": [
       "  sector sectNm   statTb statDv   statCd statNm                               \n",
       "1 A      국내은행 A      일반현황 SA001  임직원현황                           \n",
       "2 A      국내은행 A      일반현황 SA002  영업점포현황                         \n",
       "3 A      국내은행 A      일반현황 SA026  자동화기기 설치현황                  \n",
       "4 A      국내은행 B      재무현황 SA003  요약재무상태표(자산-은행계정)        \n",
       "5 A      국내은행 B      재무현황 SA004  요약재무상태표(부채 및 자본-은행계정)\n",
       "6 A      국내은행 B      재무현황 SA005  난외계정(은행계정)                   "
      ]
     },
     "metadata": {},
     "output_type": "display_data"
    }
   ],
   "source": [
    "# 2. 통계목록 내려받기\n",
    "# 금융권역별 통계목록이 서로 다르기 때문에 for-loop를 2번 작성합니다. \n",
    "sub2 <- \"statisticsListSearch.xml\"\n",
    "statList <- data.frame()\n",
    "\n",
    "for (sector in sectorCd) {\n",
    "  for (statTb in statTbCd) {\n",
    "    tryCatch({\n",
    "      URL <- paste(main, \n",
    "                   sub2, \n",
    "                   \"?lang=\", lang, \n",
    "                   \"&auth=\", auth, \n",
    "                   \"&lrgDiv=\", sector, \n",
    "                   \"&smlDiv=\", statTb, \n",
    "                   sep=\"\")\n",
    "      \n",
    "      resp <- GET(URL)\n",
    "      statInfo <- read_xml(resp) %>% xml_nodes(\"row\")\n",
    "      df <- data.frame(sector = sector, \n",
    "                       sectNm = getXmlText(statInfo, \"lrg_div_nm\"),\n",
    "                       statTb = statTb, \n",
    "                       statDv = getXmlText(statInfo, \"sml_div_nm\"),\n",
    "                       statCd = getXmlText(statInfo, \"list_no\"),\n",
    "                       statNm = getXmlText(statInfo, \"list_nm\"))\n",
    "      \n",
    "      statList <- rbind(statList, df)\n",
    "    }, error=function(e) e)\n",
    "  }\n",
    "}\n",
    "\n",
    "str(statList)\n",
    "head(statList)"
   ]
  },
  {
   "cell_type": "code",
   "execution_count": 15,
   "metadata": {
    "slideshow": {
     "slide_type": "slide"
    }
   },
   "outputs": [
    {
     "name": "stdout",
     "output_type": "stream",
     "text": [
      "'data.frame':\t3890 obs. of  4 variables:\n",
      " $ statCd: chr  \"SA001\" \"SA001\" \"SA001\" \"SA001\" ...\n",
      " $ statNm: chr  \"임직원현황\" \"임직원현황\" \"임직원현황\" \"임직원현황\" ...\n",
      " $ acntCd: chr  \"A1\" \"A11\" \"A12\" \"A13\" ...\n",
      " $ acntNm: chr  \"임원\" \"임원_상임임원\" \"임원_비상임임원\" \"임원_이사대우\" ...\n"
     ]
    },
    {
     "data": {
      "text/html": [
       "<table>\n",
       "<thead><tr><th scope=col>statCd</th><th scope=col>statNm</th><th scope=col>acntCd</th><th scope=col>acntNm</th></tr></thead>\n",
       "<tbody>\n",
       "\t<tr><td>SA001          </td><td>임직원현황     </td><td>A1             </td><td>임원           </td></tr>\n",
       "\t<tr><td>SA001          </td><td>임직원현황     </td><td>A11            </td><td>임원_상임임원  </td></tr>\n",
       "\t<tr><td>SA001          </td><td>임직원현황     </td><td>A12            </td><td>임원_비상임임원</td></tr>\n",
       "\t<tr><td>SA001          </td><td>임직원현황     </td><td>A13            </td><td>임원_이사대우  </td></tr>\n",
       "\t<tr><td>SA001          </td><td>임직원현황     </td><td>A2             </td><td>일반직원       </td></tr>\n",
       "\t<tr><td>SA001          </td><td>임직원현황     </td><td>A21            </td><td>일반직원_책임자</td></tr>\n",
       "</tbody>\n",
       "</table>\n"
      ],
      "text/latex": [
       "\\begin{tabular}{r|llll}\n",
       " statCd & statNm & acntCd & acntNm\\\\\n",
       "\\hline\n",
       "\t SA001           & 임직원현황      & A1              & 임원           \\\\\n",
       "\t SA001             & 임직원현황        & A11               & 임원\\_상임임원  \\\\\n",
       "\t SA001             & 임직원현황        & A12               & 임원\\_비상임임원\\\\\n",
       "\t SA001             & 임직원현황        & A13               & 임원\\_이사대우  \\\\\n",
       "\t SA001           & 임직원현황      & A2              & 일반직원       \\\\\n",
       "\t SA001             & 임직원현황        & A21               & 일반직원\\_책임자\\\\\n",
       "\\end{tabular}\n"
      ],
      "text/markdown": [
       "\n",
       "statCd | statNm | acntCd | acntNm | \n",
       "|---|---|---|---|---|---|\n",
       "| SA001           | 임직원현황      | A1              | 임원            | \n",
       "| SA001           | 임직원현황      | A11             | 임원_상임임원   | \n",
       "| SA001           | 임직원현황      | A12             | 임원_비상임임원 | \n",
       "| SA001           | 임직원현황      | A13             | 임원_이사대우   | \n",
       "| SA001           | 임직원현황      | A2              | 일반직원        | \n",
       "| SA001           | 임직원현황      | A21             | 일반직원_책임자 | \n",
       "\n",
       "\n"
      ],
      "text/plain": [
       "  statCd statNm     acntCd acntNm         \n",
       "1 SA001  임직원현황 A1     임원           \n",
       "2 SA001  임직원현황 A11    임원_상임임원  \n",
       "3 SA001  임직원현황 A12    임원_비상임임원\n",
       "4 SA001  임직원현황 A13    임원_이사대우  \n",
       "5 SA001  임직원현황 A2     일반직원       \n",
       "6 SA001  임직원현황 A21    일반직원_책임자"
      ]
     },
     "metadata": {},
     "output_type": "display_data"
    }
   ],
   "source": [
    "# 3. 계정항목 내려받기 \n",
    "# 다섯자리 통계코드별 하위 계정항목코드를 수집합니다. \n",
    "# 다행인 것은 같은 계정항목명이라도 금융권역별로 계정항목코드가 서로 다릅니다. \n",
    "sub3 <- \"accountListSearch.xml\"\n",
    "accounts <- data.frame()\n",
    "statCds <- statList$statCd\n",
    "\n",
    "for (statCd in statCds) {\n",
    "  tryCatch({\n",
    "    URL <- paste(main, \n",
    "                 sub3, \n",
    "                 \"?lang=\", lang, \n",
    "                 \"&auth=\", auth, \n",
    "                 \"&listNo=\", statCd, \n",
    "                 sep=\"\")\n",
    "    \n",
    "    resp <- GET(URL)\n",
    "    acntInfo <- read_xml(resp) %>% xml_nodes(\"row\")\n",
    "    df <- data.frame(statCd = getXmlText(acntInfo, \"list_no\"),\n",
    "                     statNm = getXmlText(acntInfo, \"list_nm\"),\n",
    "                     acntCd = getXmlText(acntInfo, \"account_cd\"),\n",
    "                     acntNm = getXmlText(acntInfo, \"account_nm\"))\n",
    "    \n",
    "    accounts <- rbind(accounts, df)\n",
    "  }, error=function(e) e)\n",
    "}\n",
    "\n",
    "str(accounts)\n",
    "head(accounts)"
   ]
  },
  {
   "cell_type": "markdown",
   "metadata": {
    "slideshow": {
     "slide_type": "slide"
    }
   },
   "source": [
    "## 최종 데이터 내려받기"
   ]
  },
  {
   "cell_type": "code",
   "execution_count": 16,
   "metadata": {
    "slideshow": {
     "slide_type": "slide"
    }
   },
   "outputs": [
    {
     "data": {
      "text/plain": [
       "\n",
       "  국내은행     리스사   생명보험   손해보험   저축은행 할부금융사 \n",
       "        31         50         37         43        229         39 "
      ]
     },
     "metadata": {},
     "output_type": "display_data"
    }
   ],
   "source": [
    "# 금융권역별 금융회사 개수 확인\n",
    "table(compList$path1)"
   ]
  },
  {
   "cell_type": "code",
   "execution_count": 17,
   "metadata": {
    "slideshow": {
     "slide_type": "slide"
    }
   },
   "outputs": [
    {
     "name": "stdout",
     "output_type": "stream",
     "text": [
      "'data.frame':\t669 obs. of  8 variables:\n",
      " $ baseYm: chr  \"201612\" \"201612\" \"201612\" \"201612\" ...\n",
      " $ sector: chr  \"국내은행\" \"국내은행\" \"국내은행\" \"국내은행\" ...\n",
      " $ compCd: chr  \"0010927\" \"0010927\" \"0010927\" \"0010927\" ...\n",
      " $ compNm: chr  \"국민은행\" \"국민은행\" \"국민은행\" \"국민은행\" ...\n",
      " $ statCd: chr  \"SA001\" \"SA001\" \"SA001\" \"SA001\" ...\n",
      " $ acntCd: chr  \"A1\" \"A11\" \"A12\" \"A13\" ...\n",
      " $ acntNm: chr  \"임원\" \"임원_상임임원\" \"임원_비상임임원\" \"임원_이사대우\" ...\n",
      " $ statVl: chr  \"59\" \"2\" \"4\" \"53\" ...\n"
     ]
    },
    {
     "data": {
      "text/html": [
       "<table>\n",
       "<thead><tr><th scope=col>baseYm</th><th scope=col>sector</th><th scope=col>compCd</th><th scope=col>compNm</th><th scope=col>statCd</th><th scope=col>acntCd</th><th scope=col>acntNm</th><th scope=col>statVl</th></tr></thead>\n",
       "<tbody>\n",
       "\t<tr><td>201612         </td><td>국내은행       </td><td>0010927        </td><td>국민은행       </td><td>SA001          </td><td>A1             </td><td>임원           </td><td>59             </td></tr>\n",
       "\t<tr><td>201612         </td><td>국내은행       </td><td>0010927        </td><td>국민은행       </td><td>SA001          </td><td>A11            </td><td>임원_상임임원  </td><td>2              </td></tr>\n",
       "\t<tr><td>201612         </td><td>국내은행       </td><td>0010927        </td><td>국민은행       </td><td>SA001          </td><td>A12            </td><td>임원_비상임임원</td><td>4              </td></tr>\n",
       "\t<tr><td>201612         </td><td>국내은행       </td><td>0010927        </td><td>국민은행       </td><td>SA001          </td><td>A13            </td><td>임원_이사대우  </td><td>53             </td></tr>\n",
       "\t<tr><td>201612         </td><td>국내은행       </td><td>0010927        </td><td>국민은행       </td><td>SA001          </td><td>A2             </td><td>일반직원       </td><td>19458          </td></tr>\n",
       "\t<tr><td>201612         </td><td>국내은행       </td><td>0010927        </td><td>국민은행       </td><td>SA001          </td><td>A21            </td><td>일반직원_책임자</td><td>11023          </td></tr>\n",
       "</tbody>\n",
       "</table>\n"
      ],
      "text/latex": [
       "\\begin{tabular}{r|llllllll}\n",
       " baseYm & sector & compCd & compNm & statCd & acntCd & acntNm & statVl\\\\\n",
       "\\hline\n",
       "\t 201612          & 국내은행        & 0010927         & 국민은행        & SA001           & A1              & 임원            & 59             \\\\\n",
       "\t 201612            & 국내은행          & 0010927           & 국민은행          & SA001             & A11               & 임원\\_상임임원   & 2                \\\\\n",
       "\t 201612            & 국내은행          & 0010927           & 국민은행          & SA001             & A12               & 임원\\_비상임임원 & 4                \\\\\n",
       "\t 201612            & 국내은행          & 0010927           & 국민은행          & SA001             & A13               & 임원\\_이사대우   & 53               \\\\\n",
       "\t 201612          & 국내은행        & 0010927         & 국민은행        & SA001           & A2              & 일반직원        & 19458          \\\\\n",
       "\t 201612            & 국내은행          & 0010927           & 국민은행          & SA001             & A21               & 일반직원\\_책임자 & 11023            \\\\\n",
       "\\end{tabular}\n"
      ],
      "text/markdown": [
       "\n",
       "baseYm | sector | compCd | compNm | statCd | acntCd | acntNm | statVl | \n",
       "|---|---|---|---|---|---|\n",
       "| 201612          | 국내은행        | 0010927         | 국민은행        | SA001           | A1              | 임원            | 59              | \n",
       "| 201612          | 국내은행        | 0010927         | 국민은행        | SA001           | A11             | 임원_상임임원   | 2               | \n",
       "| 201612          | 국내은행        | 0010927         | 국민은행        | SA001           | A12             | 임원_비상임임원 | 4               | \n",
       "| 201612          | 국내은행        | 0010927         | 국민은행        | SA001           | A13             | 임원_이사대우   | 53              | \n",
       "| 201612          | 국내은행        | 0010927         | 국민은행        | SA001           | A2              | 일반직원        | 19458           | \n",
       "| 201612          | 국내은행        | 0010927         | 국민은행        | SA001           | A21             | 일반직원_책임자 | 11023           | \n",
       "\n",
       "\n"
      ],
      "text/plain": [
       "  baseYm sector   compCd  compNm   statCd acntCd acntNm          statVl\n",
       "1 201612 국내은행 0010927 국민은행 SA001  A1     임원            59    \n",
       "2 201612 국내은행 0010927 국민은행 SA001  A11    임원_상임임원   2     \n",
       "3 201612 국내은행 0010927 국민은행 SA001  A12    임원_비상임임원 4     \n",
       "4 201612 국내은행 0010927 국민은행 SA001  A13    임원_이사대우   53    \n",
       "5 201612 국내은행 0010927 국민은행 SA001  A2     일반직원        19458 \n",
       "6 201612 국내은행 0010927 국민은행 SA001  A21    일반직원_책임자 11023 "
      ]
     },
     "metadata": {},
     "output_type": "display_data"
    }
   ],
   "source": [
    "# 국내은행에 대해 금융통계 데이터를 수집합니다. \n",
    "targetSector <- \"국내은행\"\n",
    "term <- \"Y\"               # Y:연도, H:반기, Q:분기\n",
    "strMonth <- \"201601\"      # 검색시작년월\n",
    "endMonth <- \"201612\"      # 검색종료년월\n",
    "\n",
    "sub4 <- \"statisticsInfoSearch.xml\"\n",
    "result <- data.frame()\n",
    "\n",
    "# 국내은행에 속한 금융회사코드 리스트를 설정합니다. \n",
    "# 만약 관심 있는 모든 금융권역에 대해 수집하려면 아래 명령문을 수행하는 대신,\n",
    "# 가장 바깥쪽에 금융권역을 순환하는 for-loop를 하나 더 만들어야 합니다. \n",
    "comps <- compList[compList$path1==targetSector,\"compCd\"]\n",
    "\n",
    "# 예시로 국내은행 중 \"국민은행\"에 대해서만 아래 작업을 실행시키도록 하겠습니다. \n",
    "comps <- comps[1]\n",
    "\n",
    "for (comp in comps) {\n",
    "  stats <- statList[statList$sectNm==targetSector,\"statCd\"]\n",
    "  \n",
    "  for (stat in stats) {\n",
    "    acnts <- accounts[accounts$statCd==stat,\"acntCd\"]\n",
    "\n",
    "    for (acnt in acnts) {\n",
    "      tryCatch({\n",
    "        URL <- paste(main, \n",
    "                     sub4, \n",
    "                     \"?lang=\", lang, \n",
    "                     \"&term=\", term, \n",
    "                     \"&auth=\", auth, \n",
    "                     \"&financeCd=\", comp,\n",
    "                     \"&listNo=\", stat, \n",
    "                     \"&accountCd=\", acnt, \n",
    "                     \"&startBaseMm=\", strMonth, \n",
    "                     \"&endBaseMm=\", endMonth, \n",
    "                     sep=\"\")\n",
    "\n",
    "        resp <- GET(URL)\n",
    "        finalDat <- read_xml(resp) %>% xml_nodes(\"row\")\n",
    "        \n",
    "        # 금융권역과 통계코드는 API에서 제공하지 않습니다. \n",
    "        df <- data.frame(baseYm = getXmlText(finalDat, \"base_month\"),\n",
    "                         sector = targetSector, \n",
    "                         compCd = getXmlText(finalDat, \"finance_cd\"),\n",
    "                         compNm = getXmlText(finalDat, \"finance_nm\"),\n",
    "                         statCd = stat,\n",
    "                         acntCd = getXmlText(finalDat, \"account_cd\"),\n",
    "                         acntNm = getXmlText(finalDat, \"account_nm\"),\n",
    "                         statVl = getXmlText(finalDat, \"a\"))\n",
    "    \n",
    "        result <- rbind(result, df)\n",
    "      }, error=function(e) e)\n",
    "    }\n",
    "  }\n",
    "}\n",
    "\n",
    "str(result)\n",
    "head(result)"
   ]
  },
  {
   "cell_type": "code",
   "execution_count": 18,
   "metadata": {
    "collapsed": true,
    "slideshow": {
     "slide_type": "skip"
    }
   },
   "outputs": [],
   "source": [
    "# 컬럼명 바꾸기\n",
    "#colnames(result) <- c(\"기준년월\",\"회사코드\",\"회사이름\",\"통계코드\",\"계정코드\",\"계정항목\",\"계정값A\")"
   ]
  },
  {
   "cell_type": "code",
   "execution_count": 19,
   "metadata": {
    "slideshow": {
     "slide_type": "slide"
    }
   },
   "outputs": [
    {
     "data": {
      "text/html": [
       "<table>\n",
       "<thead><tr><th scope=col>baseYm</th><th scope=col>sector</th><th scope=col>compCd</th><th scope=col>compNm</th><th scope=col>statCd</th><th scope=col>statNm</th><th scope=col>acntCd</th><th scope=col>acntNm</th><th scope=col>statVl</th></tr></thead>\n",
       "<tbody>\n",
       "\t<tr><td>201612         </td><td>국내은행       </td><td>0010927        </td><td>국민은행       </td><td>SA001          </td><td>임직원현황     </td><td>A1             </td><td>임원           </td><td>59             </td></tr>\n",
       "\t<tr><td>201612         </td><td>국내은행       </td><td>0010927        </td><td>국민은행       </td><td>SA001          </td><td>임직원현황     </td><td>A11            </td><td>임원_상임임원  </td><td>2              </td></tr>\n",
       "\t<tr><td>201612         </td><td>국내은행       </td><td>0010927        </td><td>국민은행       </td><td>SA001          </td><td>임직원현황     </td><td>A12            </td><td>임원_비상임임원</td><td>4              </td></tr>\n",
       "\t<tr><td>201612         </td><td>국내은행       </td><td>0010927        </td><td>국민은행       </td><td>SA001          </td><td>임직원현황     </td><td>A13            </td><td>임원_이사대우  </td><td>53             </td></tr>\n",
       "\t<tr><td>201612         </td><td>국내은행       </td><td>0010927        </td><td>국민은행       </td><td>SA001          </td><td>임직원현황     </td><td>A2             </td><td>일반직원       </td><td>19458          </td></tr>\n",
       "\t<tr><td>201612         </td><td>국내은행       </td><td>0010927        </td><td>국민은행       </td><td>SA001          </td><td>임직원현황     </td><td>A21            </td><td>일반직원_책임자</td><td>11023          </td></tr>\n",
       "</tbody>\n",
       "</table>\n"
      ],
      "text/latex": [
       "\\begin{tabular}{r|lllllllll}\n",
       " baseYm & sector & compCd & compNm & statCd & statNm & acntCd & acntNm & statVl\\\\\n",
       "\\hline\n",
       "\t 201612          & 국내은행        & 0010927         & 국민은행        & SA001           & 임직원현황      & A1              & 임원            & 59             \\\\\n",
       "\t 201612            & 국내은행          & 0010927           & 국민은행          & SA001             & 임직원현황        & A11               & 임원\\_상임임원   & 2                \\\\\n",
       "\t 201612            & 국내은행          & 0010927           & 국민은행          & SA001             & 임직원현황        & A12               & 임원\\_비상임임원 & 4                \\\\\n",
       "\t 201612            & 국내은행          & 0010927           & 국민은행          & SA001             & 임직원현황        & A13               & 임원\\_이사대우   & 53               \\\\\n",
       "\t 201612          & 국내은행        & 0010927         & 국민은행        & SA001           & 임직원현황      & A2              & 일반직원        & 19458          \\\\\n",
       "\t 201612            & 국내은행          & 0010927           & 국민은행          & SA001             & 임직원현황        & A21               & 일반직원\\_책임자 & 11023            \\\\\n",
       "\\end{tabular}\n"
      ],
      "text/markdown": [
       "\n",
       "baseYm | sector | compCd | compNm | statCd | statNm | acntCd | acntNm | statVl | \n",
       "|---|---|---|---|---|---|\n",
       "| 201612          | 국내은행        | 0010927         | 국민은행        | SA001           | 임직원현황      | A1              | 임원            | 59              | \n",
       "| 201612          | 국내은행        | 0010927         | 국민은행        | SA001           | 임직원현황      | A11             | 임원_상임임원   | 2               | \n",
       "| 201612          | 국내은행        | 0010927         | 국민은행        | SA001           | 임직원현황      | A12             | 임원_비상임임원 | 4               | \n",
       "| 201612          | 국내은행        | 0010927         | 국민은행        | SA001           | 임직원현황      | A13             | 임원_이사대우   | 53              | \n",
       "| 201612          | 국내은행        | 0010927         | 국민은행        | SA001           | 임직원현황      | A2              | 일반직원        | 19458           | \n",
       "| 201612          | 국내은행        | 0010927         | 국민은행        | SA001           | 임직원현황      | A21             | 일반직원_책임자 | 11023           | \n",
       "\n",
       "\n"
      ],
      "text/plain": [
       "  baseYm sector   compCd  compNm   statCd statNm     acntCd acntNm         \n",
       "1 201612 국내은행 0010927 국민은행 SA001  임직원현황 A1     임원           \n",
       "2 201612 국내은행 0010927 국민은행 SA001  임직원현황 A11    임원_상임임원  \n",
       "3 201612 국내은행 0010927 국민은행 SA001  임직원현황 A12    임원_비상임임원\n",
       "4 201612 국내은행 0010927 국민은행 SA001  임직원현황 A13    임원_이사대우  \n",
       "5 201612 국내은행 0010927 국민은행 SA001  임직원현황 A2     일반직원       \n",
       "6 201612 국내은행 0010927 국민은행 SA001  임직원현황 A21    일반직원_책임자\n",
       "  statVl\n",
       "1 59    \n",
       "2 2     \n",
       "3 4     \n",
       "4 53    \n",
       "5 19458 \n",
       "6 11023 "
      ]
     },
     "metadata": {},
     "output_type": "display_data"
    }
   ],
   "source": [
    "# 통계이름 붙이고 컬럼을 정렬합니다. \n",
    "result <- merge(result, statList[,c(5,6)], by=\"statCd\", all.x=T)\n",
    "result <- result[,c(2:5,1,9,6:8)]\n",
    "\n",
    "# 데이터 확인\n",
    "head(result)"
   ]
  },
  {
   "cell_type": "code",
   "execution_count": 20,
   "metadata": {
    "slideshow": {
     "slide_type": "slide"
    }
   },
   "outputs": [
    {
     "data": {
      "text/html": [
       "669"
      ],
      "text/latex": [
       "669"
      ],
      "text/markdown": [
       "669"
      ],
      "text/plain": [
       "[1] 669"
      ]
     },
     "metadata": {},
     "output_type": "display_data"
    },
    {
     "data": {
      "text/html": [
       "669"
      ],
      "text/latex": [
       "669"
      ],
      "text/markdown": [
       "669"
      ],
      "text/plain": [
       "[1] 669"
      ]
     },
     "metadata": {},
     "output_type": "display_data"
    }
   ],
   "source": [
    "# 중복제거 전후 건수를 비교합니다.\n",
    "nrow(result)\n",
    "nrow(unique(result))"
   ]
  },
  {
   "cell_type": "code",
   "execution_count": 21,
   "metadata": {
    "slideshow": {
     "slide_type": "slide"
    }
   },
   "outputs": [
    {
     "data": {
      "text/html": [
       "'20170920'"
      ],
      "text/latex": [
       "'20170920'"
      ],
      "text/markdown": [
       "'20170920'"
      ],
      "text/plain": [
       "[1] \"20170920\""
      ]
     },
     "metadata": {},
     "output_type": "display_data"
    }
   ],
   "source": [
    "# 작업한 날짜를 지정합니다. \n",
    "today <- gsub(\"-\",\"\",Sys.Date())\n",
    "today\n",
    "\n",
    "# 수집한 데이터를 엑셀로 저장합니다. \n",
    "filename <- paste0(\"금감원_금융통계정보시스템_\", paste0(endMonth,term), \"_\", today, \".xlsx\")\n",
    "xlsx::write.xlsx(result, filename, sheetName=targetSector, row.names=F)"
   ]
  },
  {
   "cell_type": "markdown",
   "metadata": {
    "slideshow": {
     "slide_type": "slide"
    }
   },
   "source": [
    "# End of Document"
   ]
  }
 ],
 "metadata": {
  "celltoolbar": "Slideshow",
  "kernelspec": {
   "display_name": "R",
   "language": "R",
   "name": "ir"
  },
  "language_info": {
   "codemirror_mode": "r",
   "file_extension": ".r",
   "mimetype": "text/x-r-source",
   "name": "R",
   "pygments_lexer": "r",
   "version": "3.4.1"
  }
 },
 "nbformat": 4,
 "nbformat_minor": 2
}
