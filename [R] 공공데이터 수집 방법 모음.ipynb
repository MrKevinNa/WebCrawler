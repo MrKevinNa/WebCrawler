{
 "cells": [
  {
   "cell_type": "markdown",
   "metadata": {},
   "source": [
    "# 공공데이터 수집 방법 모음"
   ]
  },
  {
   "cell_type": "markdown",
   "metadata": {},
   "source": [
    "## 1. [지방자치단체 인허가 사업체 리스트](http://nbviewer.jupyter.org/format/slides/gist/DrKevin22/bc8bf69c49484b0d610f324ad32ffb4f#/)"
   ]
  },
  {
   "cell_type": "markdown",
   "metadata": {},
   "source": [
    "## 2. [공공데이터포털 OpenAPI 인증키 발급 방법](http://nbviewer.jupyter.org/format/slides/gist/DrKevin22/89aabf84f7e8eae51a334c87a624e31f#/)"
   ]
  },
  {
   "cell_type": "markdown",
   "metadata": {},
   "source": [
    "## 3. [조달청 나라장터 낙찰리스트](http://nbviewer.jupyter.org/format/slides/gist/DrKevin22/ab9f12e017d0f3f1c1d3dca17929e76e#/)\n",
    "- 인증키를 먼저 발급받은 후 실행하시면 됩니다. (2번 글 참조)"
   ]
  },
  {
   "cell_type": "markdown",
   "metadata": {},
   "source": [
    "## 4. [금융감독원 금융통계정보시스템](http://nbviewer.jupyter.org/format/slides/gist/DrKevin22/458ccf8074c83239f5d48cb966d799b2#/)"
   ]
  },
  {
   "cell_type": "markdown",
   "metadata": {},
   "source": [
    "## 5. [통계청 온라인 가격정보](http://nbviewer.jupyter.org/format/slides/gist/DrKevin22/31dd95afeaab37bfb5b616986a103425#/)\n",
    "- 인증키를 먼저 발급받은 후 실행하시면 됩니다. (2번 글 참조)"
   ]
  },
  {
   "cell_type": "markdown",
   "metadata": {},
   "source": [
    "## 6. [국토교통부 아파트 실거래가](http://nbviewer.jupyter.org/format/slides/gist/DrKevin22/753fc4ce904fcea412cb03457bb6e50c#/)\n",
    "- 인증키를 먼저 발급받은 후 실행하시면 됩니다. (2번 글 참조)"
   ]
  },
  {
   "cell_type": "markdown",
   "metadata": {},
   "source": [
    "## 7. [소상공인 상가업소정보](http://nbviewer.jupyter.org/format/slides/gist/DrKevin22/82faa8276352f7a2a8ed7ade997966d1#/)\n",
    "  - 인증키를 먼저 발급받은 후 실행하시면 됩니다. (2번 글 참조)"
   ]
  },
  {
   "cell_type": "markdown",
   "metadata": {},
   "source": [
    "## 부록 [R Selenium 사용법](http://nbviewer.jupyter.org/format/slides/gist/DrKevin22/38387a64fccaa643348e02f4d9bb7c4e#/)\n",
    "- 현재 기본 사용법만 기술되어 있습니다. \n",
    "- iframe 안에 포함된 태그 지정 및 경고(alert) 제어 방법 등 지속적으로 보완할 예정입니다. "
   ]
  }
 ],
 "metadata": {
  "kernelspec": {
   "display_name": "R",
   "language": "R",
   "name": "ir"
  },
  "language_info": {
   "codemirror_mode": "r",
   "file_extension": ".r",
   "mimetype": "text/x-r-source",
   "name": "R",
   "pygments_lexer": "r",
   "version": "3.4.2"
  }
 },
 "nbformat": 4,
 "nbformat_minor": 2
}
